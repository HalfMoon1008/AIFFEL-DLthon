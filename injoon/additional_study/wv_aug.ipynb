{
 "cells": [
  {
   "cell_type": "code",
   "execution_count": 2,
   "id": "9b4f152c",
   "metadata": {},
   "outputs": [
    {
     "name": "stderr",
     "output_type": "stream",
     "text": [
      "100%|██████████| 3950/3950 [03:32<00:00, 18.55it/s]\n"
     ]
    }
   ],
   "source": [
    "import pandas as pd\n",
    "import random\n",
    "from konlpy.tag import Mecab\n",
    "from gensim.models.word2vec import Word2Vec\n",
    "from tqdm import tqdm\n",
    "\n",
    "# 데이터를 불러옵니다.\n",
    "train = pd.read_csv('./train.csv')\n",
    "\n",
    "# Word2Vec 모델을 불러옵니다.\n",
    "w2v_path = '/aiffel/data/ko.bin'  \n",
    "wv_model = Word2Vec.load(w2v_path)\n",
    "\n",
    "def lexical_sub(sentence, word2vec):\n",
    "    toks = sentence.split()\n",
    "    \n",
    "    for idx, _from in enumerate(toks):\n",
    "        if (idx + 1) % 4 == 0:  # 토큰의 4의 배수마다\n",
    "            try:\n",
    "                _to = word2vec.wv.most_similar(_from)[0][0]  # 수정된 부분\n",
    "                toks[idx] = _to\n",
    "            except:   # 단어장에 없는 단어\n",
    "                continue\n",
    "\n",
    "    return ' '.join(toks)\n",
    "\n",
    "# Mecab으로 토큰화\n",
    "mecab = Mecab()\n",
    "train['conversation_mecab'] = train['conversation'].apply(lambda x: \" \".join(mecab.morphs(x)))\n",
    "\n",
    "# 증강된 문장을 저장할 리스트\n",
    "augmented_sentences = []\n",
    "\n",
    "# 각 문장에 대해 증강\n",
    "for sentence in tqdm(train['conversation_mecab']):\n",
    "    augmented_sentence = lexical_sub(sentence, wv_model)\n",
    "    augmented_sentences.append(augmented_sentence)\n",
    "\n",
    "# 증강된 데이터를 새로운 데이터프레임에 저장\n",
    "augmented_df = pd.DataFrame({\n",
    "    'conversation': augmented_sentences,\n",
    "    'class': train['class']\n",
    "})\n",
    "\n",
    "# 결과를 train_augmented_wv.csv로 저장\n",
    "augmented_df.to_csv('./train_augmented_wv.csv', index=False)\n"
   ]
  },
  {
   "cell_type": "code",
   "execution_count": 7,
   "id": "42ce614b",
   "metadata": {},
   "outputs": [
    {
     "name": "stdout",
     "output_type": "stream",
     "text": [
      "Collecting gensim==3.8.1\n",
      "  Downloading gensim-3.8.1.tar.gz (23.4 MB)\n",
      "     |████████████████████████████████| 23.4 MB 6.2 MB/s            \n",
      "\u001b[?25h  Preparing metadata (setup.py) ... \u001b[?25ldone\n",
      "\u001b[?25hRequirement already satisfied: numpy>=1.11.3 in /opt/conda/lib/python3.9/site-packages (from gensim==3.8.1) (1.21.4)\n",
      "Requirement already satisfied: scipy>=0.18.1 in /opt/conda/lib/python3.9/site-packages (from gensim==3.8.1) (1.7.1)\n",
      "Requirement already satisfied: six>=1.5.0 in /opt/conda/lib/python3.9/site-packages (from gensim==3.8.1) (1.16.0)\n",
      "Requirement already satisfied: smart_open>=1.8.1 in /opt/conda/lib/python3.9/site-packages (from gensim==3.8.1) (5.2.1)\n",
      "Building wheels for collected packages: gensim\n",
      "  Building wheel for gensim (setup.py) ... \u001b[?25ldone\n",
      "\u001b[?25h  Created wheel for gensim: filename=gensim-3.8.1-cp39-cp39-linux_x86_64.whl size=23985908 sha256=1c70609edaf0f7bf0f17e6eac8da138e87a5dbbad3c28079b7b9704aaefce63e\n",
      "  Stored in directory: /aiffel/.cache/pip/wheels/fe/77/24/b3ffc86119703277a8aeb0e6914e97e216b1bd45287e41d6ba\n",
      "Successfully built gensim\n",
      "Installing collected packages: gensim\n",
      "  Attempting uninstall: gensim\n",
      "    Found existing installation: gensim 4.1.2\n",
      "    Uninstalling gensim-4.1.2:\n",
      "      Successfully uninstalled gensim-4.1.2\n",
      "Successfully installed gensim-3.8.1\n",
      "\u001b[33mWARNING: Running pip as the 'root' user can result in broken permissions and conflicting behaviour with the system package manager. It is recommended to use a virtual environment instead: https://pip.pypa.io/warnings/venv\u001b[0m\n"
     ]
    }
   ],
   "source": [
    "!pip install gensim==3.8.1"
   ]
  },
  {
   "cell_type": "code",
   "execution_count": null,
   "id": "15a44cfc",
   "metadata": {},
   "outputs": [],
   "source": []
  }
 ],
 "metadata": {
  "kernelspec": {
   "display_name": "Python 3 (ipykernel)",
   "language": "python",
   "name": "python3"
  },
  "language_info": {
   "codemirror_mode": {
    "name": "ipython",
    "version": 3
   },
   "file_extension": ".py",
   "mimetype": "text/x-python",
   "name": "python",
   "nbconvert_exporter": "python",
   "pygments_lexer": "ipython3",
   "version": "3.9.7"
  }
 },
 "nbformat": 4,
 "nbformat_minor": 5
}
