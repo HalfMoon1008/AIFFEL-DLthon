{
 "cells": [
  {
   "cell_type": "code",
   "execution_count": null,
   "id": "5b3c5fca",
   "metadata": {},
   "outputs": [],
   "source": []
  },
  {
   "cell_type": "code",
   "execution_count": 1,
   "id": "0e2d9b99",
   "metadata": {},
   "outputs": [],
   "source": [
    "import pandas as pd\n",
    "import torch\n",
    "from torch.utils.data import Dataset, DataLoader\n",
    "from transformers import BertTokenizer, ElectraTokenizer, BertForSequenceClassification, ElectraForSequenceClassification\n",
    "from tqdm.notebook import tqdm\n",
    "import re\n",
    "import torch.nn.functional as F\n",
    "import numpy as np\n"
   ]
  },
  {
   "cell_type": "code",
   "execution_count": 2,
   "id": "c93dcdad",
   "metadata": {},
   "outputs": [],
   "source": [
    "\n",
    "def clean_text(text):\n",
    "    # Convert to lowercase\n",
    "    text = text.lower()\n",
    "    \n",
    "    # Remove special characters and numbers\n",
    "    text = re.sub(r'[^가-힣0-9]', ' ', text)\n",
    "    \n",
    "    # Remove extra spaces\n",
    "    text = ' '.join(text.split())\n",
    "    \n",
    "    # 한국어 불용어 리스트 - 년, 또, 그런, 좀, 잘, 개, 아니, 씨, 안, 다시, 못하\n",
    "    stopwords = [\n",
    "        '이', '있', '하', '것', '들', '그', '되', '수', '이', '보', '않', '없', '나', '사람', '주', \n",
    "        '등', '같', '우리', '때', '가', '한', '지', '대하', '오', '말', '일', '그렇', '위하', \n",
    "        '때문', '그것', '두', '말하', '알', '그러나', '받', '일', '문제', '더', '사회', \n",
    "        '많', '그리고', '좋', '크', '따르', '중', '나오', '가지', '시키', '만들', '지금', '생각하', \n",
    "        '그러', '속', '하나', '집', '살', '모르', '적', '월', '데', '자신', '어떤', '내', '경우',\n",
    "        '명', '생각', '시간', '그녀', '이런', '앞', '보이', '번', '나', '다른', '어떻', '여자',\n",
    "        '전', '들', '사실', '이렇', '점', '싶', '말', '정도', '원', '통하', '소리', '놓'\n",
    "    ]\n",
    "    \n",
    "    # 불용어 제거\n",
    "    text = ' '.join(word for word in text.split() if word not in stopwords)\n",
    "    \n",
    "    return text"
   ]
  },
  {
   "cell_type": "code",
   "execution_count": 3,
   "id": "63878b56",
   "metadata": {},
   "outputs": [],
   "source": [
    "# Define the conversation column names for each file based on the earlier inspection\n",
    "conversation_columns = {\n",
    "    \"./data/train_sr_cleaned.csv\": \"conversation_sr_cleaned\",\n",
    "    \"./data/train_augmented_wv_.csv\": \"conversation\",\n",
    "    \"./data/LLaMa2_Augmentation_trian.csv\": \"conversation\",\n",
    "    \"./data/train.csv\": \"conversation\"\n",
    "}\n",
    "\n",
    "# Load and preprocess the data from each file, then concatenate them\n",
    "all_dataframes = []\n",
    "\n",
    "for file_path, conv_column in conversation_columns.items():\n",
    "    df_temp = pd.read_csv(file_path)\n",
    "    df_temp = df_temp[['class', conv_column]]\n",
    "    df_temp.columns = ['class', 'conversation']  # Renaming columns for uniformity\n",
    "    df_temp['conversation'] = df_temp['conversation'].apply(clean_text)\n",
    "    all_dataframes.append(df_temp)\n",
    "\n",
    "# Concatenate all the dataframes\n",
    "merged_data = pd.concat(all_dataframes, ignore_index=True)\n",
    "\n",
    "test = pd.read_json('./data/test.json').transpose()\n",
    "\n",
    "# train 데이터의 텍스트 열 정규화\n",
    "merged_data['conversation'] = merged_data['conversation'].apply(clean_text)\n",
    "test['conversation'] = test['text'].apply(clean_text)\n",
    "\n",
    "# 지정된 클래스를 숫자로 인코딩\n",
    "label_dict = {\n",
    "    '협박 대화': 0,\n",
    "    '갈취 대화': 1,\n",
    "    '직장 내 괴롭힘 대화': 2,\n",
    "    '기타 괴롭힘 대화': 3\n",
    "}\n",
    "merged_data['label_encoded'] = merged_data['class'].map(label_dict)\n",
    "\n",
    "merged_data.drop_duplicates(subset=['conversation'], inplace=True)\n",
    "\n",
    "\n",
    "# NaN 값을 가진 행 제거\n",
    "merged_data.dropna(subset=['conversation', 'label_encoded'], inplace=True)\n",
    "\n",
    "# 빈 문자열 값을 가진 행 제거\n",
    "merged_data = merged_data[merged_data['conversation'] != \"\"]\n",
    "\n",
    "merged_data.reset_index(drop=True, inplace=True)\n"
   ]
  },
  {
   "cell_type": "code",
   "execution_count": 4,
   "id": "68d8a237",
   "metadata": {},
   "outputs": [
    {
     "name": "stdout",
     "output_type": "stream",
     "text": [
      "       class                                       conversation  label_encoded\n",
      "0      협박 대화  너 스스로를 죽여달라고 애원하는 인가 아닙니다 죄송합니다 죽을 거면 혼자 죽지 사건...              0\n",
      "1      협박 대화  길동판단입니다꽤 시 분 마트에 폭발물을 설치할거다 죽는거야 똑바로 들어 한번만 얘기...              0\n",
      "2  기타 괴롭힘 대화  너 되게 귀여운거 알지 나보다 작은 남자는 첨봤어 그만해 니들 놀리는거 재미없어 지...              3\n",
      "3      갈취 대화  어이 거기 예 너 말이야 너 동안 이리 오라고 사이 무슨 너 늑대 옷 좋아보인다 얘...              1\n",
      "4      갈취 대화  저기요 혹시 한데이 너무 뜨겁잖아요 저희 회사에서 알아보던 선크림 파는데 손등에 발...              1\n"
     ]
    }
   ],
   "source": [
    "print(merged_data.head())\n"
   ]
  },
  {
   "cell_type": "code",
   "execution_count": 5,
   "id": "f05abc2a",
   "metadata": {},
   "outputs": [],
   "source": [
    "# 토크나이저 로드\n",
    "from transformers import FunnelTokenizerFast, FunnelForSequenceClassification\n",
    "\n",
    "funnel_tokenizer = FunnelTokenizerFast.from_pretrained(\"kykim/funnel-kor-base\")\n",
    "\n",
    "# funnel용 Dataset 정의\n",
    "class FunnelDataset(Dataset):\n",
    "    def __init__(self, dataframe, tokenizer, max_len):\n",
    "        self.tokenizer = tokenizer\n",
    "        self.data = dataframe\n",
    "        self.text = dataframe['conversation' if 'conversation' in dataframe else 'text'].tolist()\n",
    "        self.labels = dataframe['label_encoded'].tolist() if 'label_encoded' in dataframe else [0] * len(dataframe)\n",
    "        self.max_len = max_len\n",
    "\n",
    "    def __len__(self):\n",
    "        return len(self.text)\n",
    "\n",
    "    def __getitem__(self, index):\n",
    "        try:\n",
    "            text = str(self.text[index])\n",
    "            inputs = self.tokenizer.encode_plus(\n",
    "                text,\n",
    "                None,\n",
    "                add_special_tokens=True,\n",
    "                max_length=self.max_len,\n",
    "                pad_to_max_length=True,\n",
    "                return_token_type_ids=True\n",
    "            )\n",
    "            ids = inputs['input_ids']\n",
    "            mask = inputs['attention_mask']\n",
    "\n",
    "            return {\n",
    "                'ids': torch.tensor(ids, dtype=torch.long),\n",
    "                'mask': torch.tensor(mask, dtype=torch.long),\n",
    "                'targets': torch.tensor(self.labels[index], dtype=torch.long)\n",
    "            }\n",
    "        except Exception as e:\n",
    "            print(f\"Error at index {index}: {e}\")\n",
    "            print(f\"Text: {self.text[index]}, Label: {self.labels[index]}\")\n",
    "            raise\n",
    "\n",
    "class FunnelKorBaseClass(torch.nn.Module):\n",
    "    def __init__(self):\n",
    "        super(FunnelKorBaseClass, self).__init__()\n",
    "        self.l1 = FunnelForSequenceClassification.from_pretrained('kykim/funnel-kor-base', num_labels=4)\n",
    "        \n",
    "    def forward(self, ids, mask):\n",
    "        outputs = self.l1(ids, attention_mask=mask, return_dict=True)\n",
    "        return outputs.logits\n",
    "\n",
    "def predict(model, data_loader):\n",
    "    model.eval()\n",
    "    predictions = []\n",
    "\n",
    "    with torch.no_grad():\n",
    "        for _, data in enumerate(data_loader):\n",
    "            ids = data['ids'].to(torch.device(\"cuda\"), dtype=torch.long)\n",
    "            mask = data['mask'].to(torch.device(\"cuda\"), dtype=torch.long)\n",
    "            \n",
    "            outputs = model(ids, mask)\n",
    "            _, predicted = torch.max(outputs, 1)\n",
    "            predictions.extend(predicted.cpu().numpy())\n",
    "\n",
    "    return predictions\n"
   ]
  },
  {
   "cell_type": "code",
   "execution_count": 6,
   "id": "0baf7baf",
   "metadata": {},
   "outputs": [
    {
     "name": "stderr",
     "output_type": "stream",
     "text": [
      "Overall Progress:   0%|          | 0/20 [00:00<?, ?it/s]Some weights of the model checkpoint at kykim/funnel-kor-base were not used when initializing FunnelForSequenceClassification: ['decoder.layers.1.attention.q_head.weight', 'decoder.layers.1.attention.r_w_bias', 'decoder.layers.1.attention.layer_norm.weight', 'decoder.layers.0.attention.k_head.bias', 'decoder.layers.1.ffn.layer_norm.weight', 'decoder.layers.0.attention.r_r_bias', 'decoder.layers.1.ffn.linear_2.weight', 'decoder.layers.0.attention.post_proj.bias', 'decoder.layers.1.attention.seg_embed', 'decoder.layers.0.ffn.layer_norm.weight', 'decoder.layers.1.ffn.linear_2.bias', 'decoder.layers.0.ffn.linear_1.bias', 'decoder.layers.1.attention.layer_norm.bias', 'decoder.layers.1.attention.r_s_bias', 'decoder.layers.1.ffn.linear_1.bias', 'decoder.layers.1.ffn.layer_norm.bias', 'decoder.layers.1.attention.post_proj.bias', 'decoder.layers.0.ffn.layer_norm.bias', 'decoder.layers.1.attention.r_kernel', 'decoder.layers.0.attention.r_kernel', 'decoder.layers.0.attention.seg_embed', 'decoder.layers.0.ffn.linear_2.bias', 'decoder.layers.1.attention.v_head.bias', 'decoder.layers.1.attention.v_head.weight', 'decoder.layers.0.attention.r_s_bias', 'decoder.layers.1.attention.k_head.weight', 'decoder.layers.0.attention.v_head.bias', 'decoder.layers.0.attention.post_proj.weight', 'decoder.layers.1.ffn.linear_1.weight', 'decoder.layers.1.attention.k_head.bias', 'decoder.layers.1.attention.r_r_bias', 'decoder.layers.0.attention.k_head.weight', 'decoder.layers.0.attention.layer_norm.bias', 'decoder.layers.0.attention.v_head.weight', 'decoder.layers.0.ffn.linear_1.weight', 'decoder.layers.0.attention.q_head.weight', 'decoder.layers.0.ffn.linear_2.weight', 'decoder.layers.1.attention.post_proj.weight', 'decoder.layers.0.attention.r_w_bias', 'decoder.layers.0.attention.layer_norm.weight']\n",
      "- This IS expected if you are initializing FunnelForSequenceClassification from the checkpoint of a model trained on another task or with another architecture (e.g. initializing a BertForSequenceClassification model from a BertForPreTraining model).\n",
      "- This IS NOT expected if you are initializing FunnelForSequenceClassification from the checkpoint of a model that you expect to be exactly identical (initializing a BertForSequenceClassification model from a BertForSequenceClassification model).\n",
      "Some weights of FunnelForSequenceClassification were not initialized from the model checkpoint at kykim/funnel-kor-base and are newly initialized: ['classifier.linear_hidden.bias', 'classifier.linear_out.weight', 'classifier.linear_hidden.weight', 'classifier.linear_out.bias']\n",
      "You should probably TRAIN this model on a down-stream task to be able to use it for predictions and inference.\n",
      "\n",
      "Training for MAX_LEN=128:   0%|          | 0/2 [00:00<?, ?it/s]\u001b[ATruncation was not explicitly activated but `max_length` is provided a specific value, please use `truncation=True` to explicitly truncate examples to max length. Defaulting to 'longest_first' truncation strategy. If you encode pairs of sequences (GLUE-style) with the tokenizer you can select this strategy more precisely by providing a specific strategy to `truncation`.\n",
      "/opt/conda/lib/python3.9/site-packages/transformers/tokenization_utils_base.py:2211: FutureWarning: The `pad_to_max_length` argument is deprecated and will be removed in a future version, use `padding=True` or `padding='longest'` to pad to the longest sequence in the batch, or use `padding='max_length'` to pad to a max length. In this case, you can give a specific length with `max_length` (e.g. `max_length=45`) or leave max_length to None to pad to the maximal input size of the model (e.g. 512 for Bert).\n",
      "  warnings.warn(\n",
      "\n",
      "Training for MAX_LEN=128:  50%|█████     | 1/2 [07:44<07:44, 464.20s/it]\u001b[A\n",
      "Training for MAX_LEN=128: 100%|██████████| 2/2 [15:31<00:00, 466.03s/it]\u001b[A\n",
      "Overall Progress:   5%|▌         | 1/20 [15:42<4:58:26, 942.43s/it]     \u001b[A"
     ]
    },
    {
     "name": "stdout",
     "output_type": "stream",
     "text": [
      "accuracy = 0.89\n"
     ]
    },
    {
     "name": "stderr",
     "output_type": "stream",
     "text": [
      "Some weights of the model checkpoint at kykim/funnel-kor-base were not used when initializing FunnelForSequenceClassification: ['decoder.layers.1.attention.q_head.weight', 'decoder.layers.1.attention.r_w_bias', 'decoder.layers.1.attention.layer_norm.weight', 'decoder.layers.0.attention.k_head.bias', 'decoder.layers.1.ffn.layer_norm.weight', 'decoder.layers.0.attention.r_r_bias', 'decoder.layers.1.ffn.linear_2.weight', 'decoder.layers.0.attention.post_proj.bias', 'decoder.layers.1.attention.seg_embed', 'decoder.layers.0.ffn.layer_norm.weight', 'decoder.layers.1.ffn.linear_2.bias', 'decoder.layers.0.ffn.linear_1.bias', 'decoder.layers.1.attention.layer_norm.bias', 'decoder.layers.1.attention.r_s_bias', 'decoder.layers.1.ffn.linear_1.bias', 'decoder.layers.1.ffn.layer_norm.bias', 'decoder.layers.1.attention.post_proj.bias', 'decoder.layers.0.ffn.layer_norm.bias', 'decoder.layers.1.attention.r_kernel', 'decoder.layers.0.attention.r_kernel', 'decoder.layers.0.attention.seg_embed', 'decoder.layers.0.ffn.linear_2.bias', 'decoder.layers.1.attention.v_head.bias', 'decoder.layers.1.attention.v_head.weight', 'decoder.layers.0.attention.r_s_bias', 'decoder.layers.1.attention.k_head.weight', 'decoder.layers.0.attention.v_head.bias', 'decoder.layers.0.attention.post_proj.weight', 'decoder.layers.1.ffn.linear_1.weight', 'decoder.layers.1.attention.k_head.bias', 'decoder.layers.1.attention.r_r_bias', 'decoder.layers.0.attention.k_head.weight', 'decoder.layers.0.attention.layer_norm.bias', 'decoder.layers.0.attention.v_head.weight', 'decoder.layers.0.ffn.linear_1.weight', 'decoder.layers.0.attention.q_head.weight', 'decoder.layers.0.ffn.linear_2.weight', 'decoder.layers.1.attention.post_proj.weight', 'decoder.layers.0.attention.r_w_bias', 'decoder.layers.0.attention.layer_norm.weight']\n",
      "- This IS expected if you are initializing FunnelForSequenceClassification from the checkpoint of a model trained on another task or with another architecture (e.g. initializing a BertForSequenceClassification model from a BertForPreTraining model).\n",
      "- This IS NOT expected if you are initializing FunnelForSequenceClassification from the checkpoint of a model that you expect to be exactly identical (initializing a BertForSequenceClassification model from a BertForSequenceClassification model).\n",
      "Some weights of FunnelForSequenceClassification were not initialized from the model checkpoint at kykim/funnel-kor-base and are newly initialized: ['classifier.linear_hidden.bias', 'classifier.linear_out.weight', 'classifier.linear_hidden.weight', 'classifier.linear_out.bias']\n",
      "You should probably TRAIN this model on a down-stream task to be able to use it for predictions and inference.\n",
      "\n",
      "Training for MAX_LEN=144:   0%|          | 0/2 [00:00<?, ?it/s]\u001b[A\n",
      "Training for MAX_LEN=144:  50%|█████     | 1/2 [08:45<08:45, 525.74s/it]\u001b[A\n",
      "Training for MAX_LEN=144: 100%|██████████| 2/2 [17:31<00:00, 525.77s/it]\u001b[A\n",
      "                                                                        \u001b[A"
     ]
    },
    {
     "name": "stdout",
     "output_type": "stream",
     "text": [
      "accuracy = 0.9225\n"
     ]
    },
    {
     "name": "stderr",
     "output_type": "stream",
     "text": [
      "Overall Progress:  10%|█         | 2/20 [33:21<5:03:18, 1011.03s/it]Some weights of the model checkpoint at kykim/funnel-kor-base were not used when initializing FunnelForSequenceClassification: ['decoder.layers.1.attention.q_head.weight', 'decoder.layers.1.attention.r_w_bias', 'decoder.layers.1.attention.layer_norm.weight', 'decoder.layers.0.attention.k_head.bias', 'decoder.layers.1.ffn.layer_norm.weight', 'decoder.layers.0.attention.r_r_bias', 'decoder.layers.1.ffn.linear_2.weight', 'decoder.layers.0.attention.post_proj.bias', 'decoder.layers.1.attention.seg_embed', 'decoder.layers.0.ffn.layer_norm.weight', 'decoder.layers.1.ffn.linear_2.bias', 'decoder.layers.0.ffn.linear_1.bias', 'decoder.layers.1.attention.layer_norm.bias', 'decoder.layers.1.attention.r_s_bias', 'decoder.layers.1.ffn.linear_1.bias', 'decoder.layers.1.ffn.layer_norm.bias', 'decoder.layers.1.attention.post_proj.bias', 'decoder.layers.0.ffn.layer_norm.bias', 'decoder.layers.1.attention.r_kernel', 'decoder.layers.0.attention.r_kernel', 'decoder.layers.0.attention.seg_embed', 'decoder.layers.0.ffn.linear_2.bias', 'decoder.layers.1.attention.v_head.bias', 'decoder.layers.1.attention.v_head.weight', 'decoder.layers.0.attention.r_s_bias', 'decoder.layers.1.attention.k_head.weight', 'decoder.layers.0.attention.v_head.bias', 'decoder.layers.0.attention.post_proj.weight', 'decoder.layers.1.ffn.linear_1.weight', 'decoder.layers.1.attention.k_head.bias', 'decoder.layers.1.attention.r_r_bias', 'decoder.layers.0.attention.k_head.weight', 'decoder.layers.0.attention.layer_norm.bias', 'decoder.layers.0.attention.v_head.weight', 'decoder.layers.0.ffn.linear_1.weight', 'decoder.layers.0.attention.q_head.weight', 'decoder.layers.0.ffn.linear_2.weight', 'decoder.layers.1.attention.post_proj.weight', 'decoder.layers.0.attention.r_w_bias', 'decoder.layers.0.attention.layer_norm.weight']\n",
      "- This IS expected if you are initializing FunnelForSequenceClassification from the checkpoint of a model trained on another task or with another architecture (e.g. initializing a BertForSequenceClassification model from a BertForPreTraining model).\n",
      "- This IS NOT expected if you are initializing FunnelForSequenceClassification from the checkpoint of a model that you expect to be exactly identical (initializing a BertForSequenceClassification model from a BertForSequenceClassification model).\n",
      "Some weights of FunnelForSequenceClassification were not initialized from the model checkpoint at kykim/funnel-kor-base and are newly initialized: ['classifier.linear_hidden.bias', 'classifier.linear_out.weight', 'classifier.linear_hidden.weight', 'classifier.linear_out.bias']\n",
      "You should probably TRAIN this model on a down-stream task to be able to use it for predictions and inference.\n",
      "\n",
      "Training for MAX_LEN=160:   0%|          | 0/2 [00:00<?, ?it/s]\u001b[A\n",
      "Training for MAX_LEN=160:  50%|█████     | 1/2 [09:29<09:29, 569.19s/it]\u001b[A\n",
      "Training for MAX_LEN=160: 100%|██████████| 2/2 [18:58<00:00, 569.25s/it]\u001b[A\n",
      "Overall Progress:  15%|█▌        | 3/20 [52:26<5:03:47, 1072.19s/it]    \u001b[A"
     ]
    },
    {
     "name": "stdout",
     "output_type": "stream",
     "text": [
      "accuracy = 0.9025\n"
     ]
    },
    {
     "name": "stderr",
     "output_type": "stream",
     "text": [
      "Some weights of the model checkpoint at kykim/funnel-kor-base were not used when initializing FunnelForSequenceClassification: ['decoder.layers.1.attention.q_head.weight', 'decoder.layers.1.attention.r_w_bias', 'decoder.layers.1.attention.layer_norm.weight', 'decoder.layers.0.attention.k_head.bias', 'decoder.layers.1.ffn.layer_norm.weight', 'decoder.layers.0.attention.r_r_bias', 'decoder.layers.1.ffn.linear_2.weight', 'decoder.layers.0.attention.post_proj.bias', 'decoder.layers.1.attention.seg_embed', 'decoder.layers.0.ffn.layer_norm.weight', 'decoder.layers.1.ffn.linear_2.bias', 'decoder.layers.0.ffn.linear_1.bias', 'decoder.layers.1.attention.layer_norm.bias', 'decoder.layers.1.attention.r_s_bias', 'decoder.layers.1.ffn.linear_1.bias', 'decoder.layers.1.ffn.layer_norm.bias', 'decoder.layers.1.attention.post_proj.bias', 'decoder.layers.0.ffn.layer_norm.bias', 'decoder.layers.1.attention.r_kernel', 'decoder.layers.0.attention.r_kernel', 'decoder.layers.0.attention.seg_embed', 'decoder.layers.0.ffn.linear_2.bias', 'decoder.layers.1.attention.v_head.bias', 'decoder.layers.1.attention.v_head.weight', 'decoder.layers.0.attention.r_s_bias', 'decoder.layers.1.attention.k_head.weight', 'decoder.layers.0.attention.v_head.bias', 'decoder.layers.0.attention.post_proj.weight', 'decoder.layers.1.ffn.linear_1.weight', 'decoder.layers.1.attention.k_head.bias', 'decoder.layers.1.attention.r_r_bias', 'decoder.layers.0.attention.k_head.weight', 'decoder.layers.0.attention.layer_norm.bias', 'decoder.layers.0.attention.v_head.weight', 'decoder.layers.0.ffn.linear_1.weight', 'decoder.layers.0.attention.q_head.weight', 'decoder.layers.0.ffn.linear_2.weight', 'decoder.layers.1.attention.post_proj.weight', 'decoder.layers.0.attention.r_w_bias', 'decoder.layers.0.attention.layer_norm.weight']\n",
      "- This IS expected if you are initializing FunnelForSequenceClassification from the checkpoint of a model trained on another task or with another architecture (e.g. initializing a BertForSequenceClassification model from a BertForPreTraining model).\n",
      "- This IS NOT expected if you are initializing FunnelForSequenceClassification from the checkpoint of a model that you expect to be exactly identical (initializing a BertForSequenceClassification model from a BertForSequenceClassification model).\n",
      "Some weights of FunnelForSequenceClassification were not initialized from the model checkpoint at kykim/funnel-kor-base and are newly initialized: ['classifier.linear_hidden.bias', 'classifier.linear_out.weight', 'classifier.linear_hidden.weight', 'classifier.linear_out.bias']\n",
      "You should probably TRAIN this model on a down-stream task to be able to use it for predictions and inference.\n",
      "\n",
      "Training for MAX_LEN=176:   0%|          | 0/2 [00:00<?, ?it/s]\u001b[A\n",
      "Training for MAX_LEN=176:  50%|█████     | 1/2 [10:39<10:39, 639.19s/it]\u001b[A\n",
      "Training for MAX_LEN=176: 100%|██████████| 2/2 [21:17<00:00, 638.96s/it]\u001b[A\n",
      "                                                                        \u001b[A"
     ]
    },
    {
     "name": "stdout",
     "output_type": "stream",
     "text": [
      "accuracy = 0.9125\n"
     ]
    },
    {
     "name": "stderr",
     "output_type": "stream",
     "text": [
      "Overall Progress:  20%|██        | 4/20 [1:13:52<5:08:26, 1156.68s/it]Some weights of the model checkpoint at kykim/funnel-kor-base were not used when initializing FunnelForSequenceClassification: ['decoder.layers.1.attention.q_head.weight', 'decoder.layers.1.attention.r_w_bias', 'decoder.layers.1.attention.layer_norm.weight', 'decoder.layers.0.attention.k_head.bias', 'decoder.layers.1.ffn.layer_norm.weight', 'decoder.layers.0.attention.r_r_bias', 'decoder.layers.1.ffn.linear_2.weight', 'decoder.layers.0.attention.post_proj.bias', 'decoder.layers.1.attention.seg_embed', 'decoder.layers.0.ffn.layer_norm.weight', 'decoder.layers.1.ffn.linear_2.bias', 'decoder.layers.0.ffn.linear_1.bias', 'decoder.layers.1.attention.layer_norm.bias', 'decoder.layers.1.attention.r_s_bias', 'decoder.layers.1.ffn.linear_1.bias', 'decoder.layers.1.ffn.layer_norm.bias', 'decoder.layers.1.attention.post_proj.bias', 'decoder.layers.0.ffn.layer_norm.bias', 'decoder.layers.1.attention.r_kernel', 'decoder.layers.0.attention.r_kernel', 'decoder.layers.0.attention.seg_embed', 'decoder.layers.0.ffn.linear_2.bias', 'decoder.layers.1.attention.v_head.bias', 'decoder.layers.1.attention.v_head.weight', 'decoder.layers.0.attention.r_s_bias', 'decoder.layers.1.attention.k_head.weight', 'decoder.layers.0.attention.v_head.bias', 'decoder.layers.0.attention.post_proj.weight', 'decoder.layers.1.ffn.linear_1.weight', 'decoder.layers.1.attention.k_head.bias', 'decoder.layers.1.attention.r_r_bias', 'decoder.layers.0.attention.k_head.weight', 'decoder.layers.0.attention.layer_norm.bias', 'decoder.layers.0.attention.v_head.weight', 'decoder.layers.0.ffn.linear_1.weight', 'decoder.layers.0.attention.q_head.weight', 'decoder.layers.0.ffn.linear_2.weight', 'decoder.layers.1.attention.post_proj.weight', 'decoder.layers.0.attention.r_w_bias', 'decoder.layers.0.attention.layer_norm.weight']\n",
      "- This IS expected if you are initializing FunnelForSequenceClassification from the checkpoint of a model trained on another task or with another architecture (e.g. initializing a BertForSequenceClassification model from a BertForPreTraining model).\n",
      "- This IS NOT expected if you are initializing FunnelForSequenceClassification from the checkpoint of a model that you expect to be exactly identical (initializing a BertForSequenceClassification model from a BertForSequenceClassification model).\n",
      "Some weights of FunnelForSequenceClassification were not initialized from the model checkpoint at kykim/funnel-kor-base and are newly initialized: ['classifier.linear_hidden.bias', 'classifier.linear_out.weight', 'classifier.linear_hidden.weight', 'classifier.linear_out.bias']\n",
      "You should probably TRAIN this model on a down-stream task to be able to use it for predictions and inference.\n",
      "\n",
      "Training for MAX_LEN=192:   0%|          | 0/2 [00:00<?, ?it/s]\u001b[A\n",
      "Training for MAX_LEN=192:  50%|█████     | 1/2 [11:27<11:27, 687.26s/it]\u001b[A\n",
      "Training for MAX_LEN=192: 100%|██████████| 2/2 [22:54<00:00, 687.41s/it]\u001b[A\n",
      "Overall Progress:  25%|██▌       | 5/20 [1:36:54<5:09:30, 1238.01s/it]  \u001b[A"
     ]
    },
    {
     "name": "stdout",
     "output_type": "stream",
     "text": [
      "accuracy = 0.8925\n"
     ]
    },
    {
     "name": "stderr",
     "output_type": "stream",
     "text": [
      "Some weights of the model checkpoint at kykim/funnel-kor-base were not used when initializing FunnelForSequenceClassification: ['decoder.layers.1.attention.q_head.weight', 'decoder.layers.1.attention.r_w_bias', 'decoder.layers.1.attention.layer_norm.weight', 'decoder.layers.0.attention.k_head.bias', 'decoder.layers.1.ffn.layer_norm.weight', 'decoder.layers.0.attention.r_r_bias', 'decoder.layers.1.ffn.linear_2.weight', 'decoder.layers.0.attention.post_proj.bias', 'decoder.layers.1.attention.seg_embed', 'decoder.layers.0.ffn.layer_norm.weight', 'decoder.layers.1.ffn.linear_2.bias', 'decoder.layers.0.ffn.linear_1.bias', 'decoder.layers.1.attention.layer_norm.bias', 'decoder.layers.1.attention.r_s_bias', 'decoder.layers.1.ffn.linear_1.bias', 'decoder.layers.1.ffn.layer_norm.bias', 'decoder.layers.1.attention.post_proj.bias', 'decoder.layers.0.ffn.layer_norm.bias', 'decoder.layers.1.attention.r_kernel', 'decoder.layers.0.attention.r_kernel', 'decoder.layers.0.attention.seg_embed', 'decoder.layers.0.ffn.linear_2.bias', 'decoder.layers.1.attention.v_head.bias', 'decoder.layers.1.attention.v_head.weight', 'decoder.layers.0.attention.r_s_bias', 'decoder.layers.1.attention.k_head.weight', 'decoder.layers.0.attention.v_head.bias', 'decoder.layers.0.attention.post_proj.weight', 'decoder.layers.1.ffn.linear_1.weight', 'decoder.layers.1.attention.k_head.bias', 'decoder.layers.1.attention.r_r_bias', 'decoder.layers.0.attention.k_head.weight', 'decoder.layers.0.attention.layer_norm.bias', 'decoder.layers.0.attention.v_head.weight', 'decoder.layers.0.ffn.linear_1.weight', 'decoder.layers.0.attention.q_head.weight', 'decoder.layers.0.ffn.linear_2.weight', 'decoder.layers.1.attention.post_proj.weight', 'decoder.layers.0.attention.r_w_bias', 'decoder.layers.0.attention.layer_norm.weight']\n",
      "- This IS expected if you are initializing FunnelForSequenceClassification from the checkpoint of a model trained on another task or with another architecture (e.g. initializing a BertForSequenceClassification model from a BertForPreTraining model).\n",
      "- This IS NOT expected if you are initializing FunnelForSequenceClassification from the checkpoint of a model that you expect to be exactly identical (initializing a BertForSequenceClassification model from a BertForSequenceClassification model).\n",
      "Some weights of FunnelForSequenceClassification were not initialized from the model checkpoint at kykim/funnel-kor-base and are newly initialized: ['classifier.linear_hidden.bias', 'classifier.linear_out.weight', 'classifier.linear_hidden.weight', 'classifier.linear_out.bias']\n",
      "You should probably TRAIN this model on a down-stream task to be able to use it for predictions and inference.\n",
      "\n",
      "Training for MAX_LEN=208:   0%|          | 0/2 [00:00<?, ?it/s]\u001b[A\n",
      "Overall Progress:  25%|██▌       | 5/20 [1:37:39<4:52:59, 1171.96s/it]\n"
     ]
    },
    {
     "ename": "KeyboardInterrupt",
     "evalue": "",
     "output_type": "error",
     "traceback": [
      "\u001b[0;31m---------------------------------------------------------------------------\u001b[0m",
      "\u001b[0;31mKeyboardInterrupt\u001b[0m                         Traceback (most recent call last)",
      "\u001b[0;32m/tmp/ipykernel_108/1612362858.py\u001b[0m in \u001b[0;36m<module>\u001b[0;34m\u001b[0m\n\u001b[1;32m     25\u001b[0m \u001b[0;34m\u001b[0m\u001b[0m\n\u001b[1;32m     26\u001b[0m             \u001b[0mfunnel_optimizer\u001b[0m\u001b[0;34m.\u001b[0m\u001b[0mzero_grad\u001b[0m\u001b[0;34m(\u001b[0m\u001b[0;34m)\u001b[0m\u001b[0;34m\u001b[0m\u001b[0;34m\u001b[0m\u001b[0m\n\u001b[0;32m---> 27\u001b[0;31m             \u001b[0mloss\u001b[0m\u001b[0;34m.\u001b[0m\u001b[0mbackward\u001b[0m\u001b[0;34m(\u001b[0m\u001b[0;34m)\u001b[0m\u001b[0;34m\u001b[0m\u001b[0;34m\u001b[0m\u001b[0m\n\u001b[0m\u001b[1;32m     28\u001b[0m             \u001b[0mfunnel_optimizer\u001b[0m\u001b[0;34m.\u001b[0m\u001b[0mstep\u001b[0m\u001b[0;34m(\u001b[0m\u001b[0;34m)\u001b[0m\u001b[0;34m\u001b[0m\u001b[0;34m\u001b[0m\u001b[0m\n\u001b[1;32m     29\u001b[0m \u001b[0;34m\u001b[0m\u001b[0m\n",
      "\u001b[0;32m/opt/conda/lib/python3.9/site-packages/torch/_tensor.py\u001b[0m in \u001b[0;36mbackward\u001b[0;34m(self, gradient, retain_graph, create_graph, inputs)\u001b[0m\n\u001b[1;32m    253\u001b[0m                 \u001b[0mcreate_graph\u001b[0m\u001b[0;34m=\u001b[0m\u001b[0mcreate_graph\u001b[0m\u001b[0;34m,\u001b[0m\u001b[0;34m\u001b[0m\u001b[0;34m\u001b[0m\u001b[0m\n\u001b[1;32m    254\u001b[0m                 inputs=inputs)\n\u001b[0;32m--> 255\u001b[0;31m         \u001b[0mtorch\u001b[0m\u001b[0;34m.\u001b[0m\u001b[0mautograd\u001b[0m\u001b[0;34m.\u001b[0m\u001b[0mbackward\u001b[0m\u001b[0;34m(\u001b[0m\u001b[0mself\u001b[0m\u001b[0;34m,\u001b[0m \u001b[0mgradient\u001b[0m\u001b[0;34m,\u001b[0m \u001b[0mretain_graph\u001b[0m\u001b[0;34m,\u001b[0m \u001b[0mcreate_graph\u001b[0m\u001b[0;34m,\u001b[0m \u001b[0minputs\u001b[0m\u001b[0;34m=\u001b[0m\u001b[0minputs\u001b[0m\u001b[0;34m)\u001b[0m\u001b[0;34m\u001b[0m\u001b[0;34m\u001b[0m\u001b[0m\n\u001b[0m\u001b[1;32m    256\u001b[0m \u001b[0;34m\u001b[0m\u001b[0m\n\u001b[1;32m    257\u001b[0m     \u001b[0;32mdef\u001b[0m \u001b[0mregister_hook\u001b[0m\u001b[0;34m(\u001b[0m\u001b[0mself\u001b[0m\u001b[0;34m,\u001b[0m \u001b[0mhook\u001b[0m\u001b[0;34m)\u001b[0m\u001b[0;34m:\u001b[0m\u001b[0;34m\u001b[0m\u001b[0;34m\u001b[0m\u001b[0m\n",
      "\u001b[0;32m/opt/conda/lib/python3.9/site-packages/torch/autograd/__init__.py\u001b[0m in \u001b[0;36mbackward\u001b[0;34m(tensors, grad_tensors, retain_graph, create_graph, grad_variables, inputs)\u001b[0m\n\u001b[1;32m    145\u001b[0m         \u001b[0mretain_graph\u001b[0m \u001b[0;34m=\u001b[0m \u001b[0mcreate_graph\u001b[0m\u001b[0;34m\u001b[0m\u001b[0;34m\u001b[0m\u001b[0m\n\u001b[1;32m    146\u001b[0m \u001b[0;34m\u001b[0m\u001b[0m\n\u001b[0;32m--> 147\u001b[0;31m     Variable._execution_engine.run_backward(\n\u001b[0m\u001b[1;32m    148\u001b[0m         \u001b[0mtensors\u001b[0m\u001b[0;34m,\u001b[0m \u001b[0mgrad_tensors_\u001b[0m\u001b[0;34m,\u001b[0m \u001b[0mretain_graph\u001b[0m\u001b[0;34m,\u001b[0m \u001b[0mcreate_graph\u001b[0m\u001b[0;34m,\u001b[0m \u001b[0minputs\u001b[0m\u001b[0;34m,\u001b[0m\u001b[0;34m\u001b[0m\u001b[0;34m\u001b[0m\u001b[0m\n\u001b[1;32m    149\u001b[0m         allow_unreachable=True, accumulate_grad=True)  # allow_unreachable flag\n",
      "\u001b[0;31mKeyboardInterrupt\u001b[0m: "
     ]
    }
   ],
   "source": [
    "from tqdm import tqdm\n",
    "\n",
    "results = []\n",
    "\n",
    "# 토큰 최대 길이를 128에서 432까지 16씩 증가시키며 조정\n",
    "for MAX_LEN in tqdm(range(128, 433, 16), desc=\"Overall Progress\"):\n",
    "    funnel_train_dataset = FunnelDataset(merged_data, funnel_tokenizer, MAX_LEN)\n",
    "    funnel_train_data_loader = DataLoader(funnel_train_dataset, batch_size=16)\n",
    "    \n",
    "    funnel_model = FunnelKorBaseClass()\n",
    "    funnel_model.to(torch.device(\"cuda\"))\n",
    "    \n",
    "    loss_function = torch.nn.CrossEntropyLoss()\n",
    "    funnel_optimizer = torch.optim.Adam(params=funnel_model.parameters(), lr=1e-5)\n",
    "    \n",
    "    for epoch in tqdm(range(2), desc=f\"Training for MAX_LEN={MAX_LEN}\", leave=False):\n",
    "        funnel_model.train()\n",
    "        for _, data in enumerate(funnel_train_data_loader, start=1):\n",
    "            ids = data['ids'].to(torch.device(\"cuda\"), dtype=torch.long)\n",
    "            mask = data['mask'].to(torch.device(\"cuda\"), dtype=torch.long)\n",
    "            targets = data['targets'].to(torch.device(\"cuda\"), dtype=torch.long)\n",
    "            \n",
    "            outputs = funnel_model(ids, mask)\n",
    "            loss = loss_function(outputs, targets)\n",
    "            \n",
    "            funnel_optimizer.zero_grad()\n",
    "            loss.backward()\n",
    "            funnel_optimizer.step()\n",
    "    \n",
    "    # test.json을 사용하여 모델 평가하고 submission.csv에 결과 저장\n",
    "    test_dataset = FunnelDataset(test, funnel_tokenizer, MAX_LEN)\n",
    "    test_data_loader = DataLoader(test_dataset, batch_size=16)\n",
    "\n",
    "    test_predictions = predict(funnel_model, test_data_loader)\n",
    "\n",
    "    submission_df = pd.DataFrame(test_predictions, columns=['class'])\n",
    "    submission_df.to_csv(f\"./data/funnel_different_stopwards/submission_{MAX_LEN}.csv\", index=False)\n",
    "    \n",
    "    # submission.csv와 answer.csv를 비교하여 정확도 계산\n",
    "    answer_df = pd.read_csv(\"./data/answer.csv\")\n",
    "    correct_predictions = (submission_df['class'] == answer_df['class']).sum()\n",
    "    accuracy = correct_predictions / len(answer_df)\n",
    "    print(f'accuracy = {accuracy}')\n",
    "    \n",
    "    results.append(accuracy)\n",
    "    \n",
    "    if accuracy >= 0.91:\n",
    "        model_name = f\"funnel_{accuracy:.4f}_{MAX_LEN}\"\n",
    "        torch.save(funnel_model.state_dict(), f\"./data/funnel_different_stopwards/{model_name}.pth\")\n",
    "\n",
    "results\n",
    "\n"
   ]
  },
  {
   "cell_type": "code",
   "execution_count": null,
   "id": "46b54506",
   "metadata": {},
   "outputs": [],
   "source": [
    "import matplotlib.pyplot as plt\n",
    "\n",
    "# Define the range of MAX_LEN values\n",
    "MAX_LEN_values = list(range(128, 481, 16))\n",
    "\n",
    "# Plot the accuracy values for each MAX_LEN\n",
    "plt.figure(figsize=(12, 6))\n",
    "plt.plot(MAX_LEN_values, results, marker='o')\n",
    "plt.xlabel('MAX_LEN')\n",
    "plt.ylabel('Accuracy')\n",
    "plt.title('Accuracy vs. MAX_LEN')\n",
    "plt.grid(True)\n",
    "plt.show()\n"
   ]
  },
  {
   "cell_type": "code",
   "execution_count": null,
   "id": "c99573e5",
   "metadata": {},
   "outputs": [],
   "source": []
  }
 ],
 "metadata": {
  "kernelspec": {
   "display_name": "Python 3 (ipykernel)",
   "language": "python",
   "name": "python3"
  },
  "language_info": {
   "codemirror_mode": {
    "name": "ipython",
    "version": 3
   },
   "file_extension": ".py",
   "mimetype": "text/x-python",
   "name": "python",
   "nbconvert_exporter": "python",
   "pygments_lexer": "ipython3",
   "version": "3.9.7"
  }
 },
 "nbformat": 4,
 "nbformat_minor": 5
}
