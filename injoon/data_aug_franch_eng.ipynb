{
 "cells": [
  {
   "cell_type": "code",
   "execution_count": null,
   "id": "1799974a",
   "metadata": {},
   "outputs": [
    {
     "name": "stderr",
     "output_type": "stream",
     "text": [
      "Augmenting data:  46%|████▌     | 89/193 [1:27:43<1:50:42, 63.87s/it]"
     ]
    }
   ],
   "source": [
    "import pandas as pd\n",
    "from transformers import AutoTokenizer, AutoModelForSeq2SeqLM\n",
    "from tqdm import tqdm\n",
    "import torch\n",
    "\n",
    "# GPU 사용 설정\n",
    "device = torch.device(\"cuda\" if torch.cuda.is_available() else \"cpu\")\n",
    "\n",
    "# 번역 함수 정의 (배치 처리)\n",
    "def batch_translate(texts, model_name):\n",
    "    tokenizer = AutoTokenizer.from_pretrained(model_name)\n",
    "    model = AutoModelForSeq2SeqLM.from_pretrained(model_name).to(device)\n",
    "    inputs = tokenizer(texts, return_tensors=\"pt\", padding=True, truncation=True, max_length=512).to(device)\n",
    "    translated = model.generate(**inputs)\n",
    "    return [tokenizer.decode(t, skip_special_tokens=True) for t in translated]\n",
    "\n",
    "# 데이터 불러오기\n",
    "data = pd.read_csv(\"/aiffel/aiffel/dktc/data/train.csv\")\n",
    "\n",
    "# 중복 데이터 확인 및 삭제\n",
    "data = data.drop_duplicates(subset=['conversation'])\n",
    "\n",
    "# 한국어 -> 프랑스어 -> 영어 -> 한국어 번역 증강 (배치 처리)\n",
    "def augment_korean_to_french_to_english_to_korean(texts):\n",
    "    ko_to_fr_model_name = \"Helsinki-NLP/opus-mt-ko-fr\"\n",
    "    fr_to_en_model_name = \"Helsinki-NLP/opus-mt-tc-big-fr-en\"\n",
    "    en_to_ko_model_name = \"Helsinki-NLP/opus-mt-tc-big-en-ko\"\n",
    "    \n",
    "    translated_to_french = batch_translate(texts, ko_to_fr_model_name)\n",
    "    translated_to_english = batch_translate(translated_to_french, fr_to_en_model_name)\n",
    "    return batch_translate(translated_to_english, en_to_ko_model_name)\n",
    "\n",
    "# 데이터 증강 리스트 정의\n",
    "augmented_texts_french = []\n",
    "\n",
    "# 데이터 증강 진행 (배치 처리)\n",
    "batch_size = 20\n",
    "for i in tqdm(range(0, len(data), batch_size), desc=\"Augmenting data\"):\n",
    "    batch_texts = data['conversation'].iloc[i:i+batch_size].tolist()\n",
    "    augmented_texts_french.extend(augment_korean_to_french_to_english_to_korean(batch_texts))\n",
    "\n",
    "# 증강된 데이터를 원본 데이터와 병합\n",
    "augmented_df_french = pd.DataFrame({\n",
    "    'class': data['class'],\n",
    "    'conversation': augmented_texts_french\n",
    "})\n",
    "data_augmented = pd.concat([data, augmented_df_french])\n",
    "\n",
    "# 중복 데이터 제거\n",
    "data_augmented = data_augmented.drop_duplicates(subset=['conversation'])\n",
    "\n",
    "# 결과 저장\n",
    "data_augmented.to_csv(\"train_augmented_fra.csv\", index=False)\n"
   ]
  },
  {
   "cell_type": "code",
   "execution_count": 1,
   "id": "c41fba82",
   "metadata": {},
   "outputs": [
    {
     "data": {
      "text/plain": [
       "True"
      ]
     },
     "execution_count": 1,
     "metadata": {},
     "output_type": "execute_result"
    }
   ],
   "source": [
    "import torch\n",
    "torch.cuda.is_available()"
   ]
  },
  {
   "cell_type": "code",
   "execution_count": null,
   "id": "2dbd391e",
   "metadata": {},
   "outputs": [],
   "source": []
  }
 ],
 "metadata": {
  "kernelspec": {
   "display_name": "Python 3 (ipykernel)",
   "language": "python",
   "name": "python3"
  },
  "language_info": {
   "codemirror_mode": {
    "name": "ipython",
    "version": 3
   },
   "file_extension": ".py",
   "mimetype": "text/x-python",
   "name": "python",
   "nbconvert_exporter": "python",
   "pygments_lexer": "ipython3",
   "version": "3.9.7"
  }
 },
 "nbformat": 4,
 "nbformat_minor": 5
}
